{
 "cells": [
  {
   "cell_type": "code",
   "execution_count": 1,
   "metadata": {},
   "outputs": [
    {
     "name": "stdout",
     "output_type": "stream",
     "text": [
      "Defaulting to user installation because normal site-packages is not writeable\n",
      "Collecting numpy\n",
      "  Obtaining dependency information for numpy from https://files.pythonhosted.org/packages/32/95/908d0caa051beae4f7c77652dbbeb781e7b717f3040c5c5fcaed4d3ed08f/numpy-1.26.1-cp312-cp312-win_amd64.whl.metadata\n",
      "  Downloading numpy-1.26.1-cp312-cp312-win_amd64.whl.metadata (61 kB)\n",
      "     ---------------------------------------- 0.0/61.2 kB ? eta -:--:--\n",
      "     ------------ ------------------------- 20.5/61.2 kB 640.0 kB/s eta 0:00:01\n",
      "     -------------------------------------- 61.2/61.2 kB 821.9 kB/s eta 0:00:00\n",
      "Downloading numpy-1.26.1-cp312-cp312-win_amd64.whl (15.5 MB)\n",
      "   ---------------------------------------- 0.0/15.5 MB ? eta -:--:--\n",
      "    --------------------------------------- 0.4/15.5 MB 7.6 MB/s eta 0:00:02\n",
      "   -- ------------------------------------- 1.1/15.5 MB 11.4 MB/s eta 0:00:02\n",
      "   ----- ---------------------------------- 1.9/15.5 MB 15.5 MB/s eta 0:00:01\n",
      "   ------- -------------------------------- 3.0/15.5 MB 15.8 MB/s eta 0:00:01\n",
      "   ---------- ----------------------------- 4.2/15.5 MB 19.0 MB/s eta 0:00:01\n",
      "   ------------- -------------------------- 5.3/15.5 MB 19.7 MB/s eta 0:00:01\n",
      "   --------------- ------------------------ 6.2/15.5 MB 19.7 MB/s eta 0:00:01\n",
      "   ------------------ --------------------- 7.2/15.5 MB 20.1 MB/s eta 0:00:01\n",
      "   --------------------- ------------------ 8.4/15.5 MB 20.7 MB/s eta 0:00:01\n",
      "   ------------------------- -------------- 9.8/15.5 MB 21.7 MB/s eta 0:00:01\n",
      "   ---------------------------- ----------- 11.2/15.5 MB 24.2 MB/s eta 0:00:01\n",
      "   -------------------------------- ------- 12.6/15.5 MB 26.2 MB/s eta 0:00:01\n",
      "   ------------------------------------- -- 14.4/15.5 MB 28.4 MB/s eta 0:00:01\n",
      "   ---------------------------------------  15.5/15.5 MB 29.7 MB/s eta 0:00:01\n",
      "   ---------------------------------------- 15.5/15.5 MB 25.2 MB/s eta 0:00:00\n",
      "Installing collected packages: numpy\n",
      "Successfully installed numpy-1.26.1\n"
     ]
    },
    {
     "name": "stderr",
     "output_type": "stream",
     "text": [
      "\n",
      "[notice] A new release of pip is available: 23.2.1 -> 23.3.1\n",
      "[notice] To update, run: python.exe -m pip install --upgrade pip\n"
     ]
    },
    {
     "name": "stdout",
     "output_type": "stream",
     "text": [
      "Defaulting to user installation because normal site-packages is not writeable\n",
      "Collecting pandas\n",
      "  Obtaining dependency information for pandas from https://files.pythonhosted.org/packages/f0/9b/f5218b4d746491bf262f74665f17604de88387173127ce0ed1eabcddf754/pandas-2.1.2-cp312-cp312-win_amd64.whl.metadata\n",
      "  Downloading pandas-2.1.2-cp312-cp312-win_amd64.whl.metadata (18 kB)\n",
      "Requirement already satisfied: numpy<2,>=1.26.0 in c:\\users\\dtorr\\appdata\\roaming\\python\\python312\\site-packages (from pandas) (1.26.1)\n",
      "Requirement already satisfied: python-dateutil>=2.8.2 in c:\\users\\dtorr\\appdata\\roaming\\python\\python312\\site-packages (from pandas) (2.8.2)\n",
      "Collecting pytz>=2020.1 (from pandas)\n",
      "  Obtaining dependency information for pytz>=2020.1 from https://files.pythonhosted.org/packages/32/4d/aaf7eff5deb402fd9a24a1449a8119f00d74ae9c2efa79f8ef9994261fc2/pytz-2023.3.post1-py2.py3-none-any.whl.metadata\n",
      "  Downloading pytz-2023.3.post1-py2.py3-none-any.whl.metadata (22 kB)\n",
      "Collecting tzdata>=2022.1 (from pandas)\n",
      "  Using cached tzdata-2023.3-py2.py3-none-any.whl (341 kB)\n",
      "Requirement already satisfied: six>=1.5 in c:\\users\\dtorr\\appdata\\roaming\\python\\python312\\site-packages (from python-dateutil>=2.8.2->pandas) (1.16.0)\n",
      "Downloading pandas-2.1.2-cp312-cp312-win_amd64.whl (10.5 MB)\n",
      "   ---------------------------------------- 0.0/10.5 MB ? eta -:--:--\n",
      "    --------------------------------------- 0.3/10.5 MB 5.2 MB/s eta 0:00:02\n",
      "   -- ------------------------------------- 0.7/10.5 MB 7.6 MB/s eta 0:00:02\n",
      "   ---- ----------------------------------- 1.2/10.5 MB 8.6 MB/s eta 0:00:02\n",
      "   ------- -------------------------------- 1.9/10.5 MB 10.3 MB/s eta 0:00:01\n",
      "   ---------- ----------------------------- 2.8/10.5 MB 11.9 MB/s eta 0:00:01\n",
      "   -------------- ------------------------- 3.8/10.5 MB 13.4 MB/s eta 0:00:01\n",
      "   ------------------ --------------------- 5.0/10.5 MB 15.1 MB/s eta 0:00:01\n",
      "   ----------------------- ---------------- 6.3/10.5 MB 16.7 MB/s eta 0:00:01\n",
      "   --------------------------- ------------ 7.2/10.5 MB 17.1 MB/s eta 0:00:01\n",
      "   ------------------------------- -------- 8.4/10.5 MB 17.9 MB/s eta 0:00:01\n",
      "   ------------------------------------ --- 9.6/10.5 MB 18.7 MB/s eta 0:00:01\n",
      "   ---------------------------------------  10.5/10.5 MB 20.5 MB/s eta 0:00:01\n",
      "   ---------------------------------------- 10.5/10.5 MB 18.7 MB/s eta 0:00:00\n",
      "Downloading pytz-2023.3.post1-py2.py3-none-any.whl (502 kB)\n",
      "   ---------------------------------------- 0.0/502.5 kB ? eta -:--:--\n",
      "   --------------------------------------- 502.5/502.5 kB 30.8 MB/s eta 0:00:00\n",
      "Installing collected packages: pytz, tzdata, pandas\n",
      "Successfully installed pandas-2.1.2 pytz-2023.3.post1 tzdata-2023.3\n"
     ]
    },
    {
     "name": "stderr",
     "output_type": "stream",
     "text": [
      "\n",
      "[notice] A new release of pip is available: 23.2.1 -> 23.3.1\n",
      "[notice] To update, run: python.exe -m pip install --upgrade pip\n"
     ]
    },
    {
     "name": "stdout",
     "output_type": "stream",
     "text": [
      "Defaulting to user installation because normal site-packages is not writeable\n",
      "Collecting matplotlib\n",
      "  Obtaining dependency information for matplotlib from https://files.pythonhosted.org/packages/d9/82/59970be41cc28cd7b7ae3ddc1d6b3891715af669ea0a0d2c244e126d3bb6/matplotlib-3.8.1-cp312-cp312-win_amd64.whl.metadata\n",
      "  Downloading matplotlib-3.8.1-cp312-cp312-win_amd64.whl.metadata (5.9 kB)\n",
      "Collecting contourpy>=1.0.1 (from matplotlib)\n",
      "  Obtaining dependency information for contourpy>=1.0.1 from https://files.pythonhosted.org/packages/8e/ae/a6353db548bff1a592b85ae6bb80275f0a51dc25a0410d059e5b33183e36/contourpy-1.2.0-cp312-cp312-win_amd64.whl.metadata\n",
      "  Downloading contourpy-1.2.0-cp312-cp312-win_amd64.whl.metadata (5.8 kB)\n",
      "Collecting cycler>=0.10 (from matplotlib)\n",
      "  Obtaining dependency information for cycler>=0.10 from https://files.pythonhosted.org/packages/e7/05/c19819d5e3d95294a6f5947fb9b9629efb316b96de511b418c53d245aae6/cycler-0.12.1-py3-none-any.whl.metadata\n",
      "  Downloading cycler-0.12.1-py3-none-any.whl.metadata (3.8 kB)\n",
      "Collecting fonttools>=4.22.0 (from matplotlib)\n",
      "  Obtaining dependency information for fonttools>=4.22.0 from https://files.pythonhosted.org/packages/0d/0e/b23a19158c918cad2da281350eee227d16abe2655cf85f1adb357a7bb3ff/fonttools-4.44.0-cp312-cp312-win_amd64.whl.metadata\n",
      "  Downloading fonttools-4.44.0-cp312-cp312-win_amd64.whl.metadata (156 kB)\n",
      "     ---------------------------------------- 0.0/156.8 kB ? eta -:--:--\n",
      "     ------------------------ ------------- 102.4/156.8 kB 3.0 MB/s eta 0:00:01\n",
      "     -------------------------------------- 156.8/156.8 kB 3.1 MB/s eta 0:00:00\n",
      "Collecting kiwisolver>=1.3.1 (from matplotlib)\n",
      "  Obtaining dependency information for kiwisolver>=1.3.1 from https://files.pythonhosted.org/packages/63/50/2746566bdf4a6a842d117367d05c90cfb87ac04e9e2845aa1fa21f071362/kiwisolver-1.4.5-cp312-cp312-win_amd64.whl.metadata\n",
      "  Downloading kiwisolver-1.4.5-cp312-cp312-win_amd64.whl.metadata (6.5 kB)\n",
      "Requirement already satisfied: numpy<2,>=1.21 in c:\\users\\dtorr\\appdata\\roaming\\python\\python312\\site-packages (from matplotlib) (1.26.1)\n",
      "Requirement already satisfied: packaging>=20.0 in c:\\users\\dtorr\\appdata\\roaming\\python\\python312\\site-packages (from matplotlib) (23.2)\n",
      "Collecting pillow>=8 (from matplotlib)\n",
      "  Obtaining dependency information for pillow>=8 from https://files.pythonhosted.org/packages/32/e4/978865107d097dd9cb650331676d8dc29ed9fcd0aaab46486e9d6e5123f0/Pillow-10.1.0-cp312-cp312-win_amd64.whl.metadata\n",
      "  Downloading Pillow-10.1.0-cp312-cp312-win_amd64.whl.metadata (9.6 kB)\n",
      "Collecting pyparsing>=2.3.1 (from matplotlib)\n",
      "  Obtaining dependency information for pyparsing>=2.3.1 from https://files.pythonhosted.org/packages/39/92/8486ede85fcc088f1b3dba4ce92dd29d126fd96b0008ea213167940a2475/pyparsing-3.1.1-py3-none-any.whl.metadata\n",
      "  Downloading pyparsing-3.1.1-py3-none-any.whl.metadata (5.1 kB)\n",
      "Requirement already satisfied: python-dateutil>=2.7 in c:\\users\\dtorr\\appdata\\roaming\\python\\python312\\site-packages (from matplotlib) (2.8.2)\n",
      "Requirement already satisfied: six>=1.5 in c:\\users\\dtorr\\appdata\\roaming\\python\\python312\\site-packages (from python-dateutil>=2.7->matplotlib) (1.16.0)\n",
      "Downloading matplotlib-3.8.1-cp312-cp312-win_amd64.whl (7.6 MB)\n",
      "   ---------------------------------------- 0.0/7.6 MB ? eta -:--:--\n",
      "   - -------------------------------------- 0.3/7.6 MB 9.3 MB/s eta 0:00:01\n",
      "   ---- ----------------------------------- 0.8/7.6 MB 10.1 MB/s eta 0:00:01\n",
      "   ------ --------------------------------- 1.3/7.6 MB 10.3 MB/s eta 0:00:01\n",
      "   ---------- ----------------------------- 1.9/7.6 MB 11.2 MB/s eta 0:00:01\n",
      "   -------------- ------------------------- 2.7/7.6 MB 12.4 MB/s eta 0:00:01\n",
      "   ------------------ --------------------- 3.6/7.6 MB 13.4 MB/s eta 0:00:01\n",
      "   ------------------------ --------------- 4.6/7.6 MB 14.7 MB/s eta 0:00:01\n",
      "   ---------------------------- ----------- 5.4/7.6 MB 14.9 MB/s eta 0:00:01\n",
      "   -------------------------------- ------- 6.2/7.6 MB 15.2 MB/s eta 0:00:01\n",
      "   ------------------------------------ --- 7.1/7.6 MB 15.6 MB/s eta 0:00:01\n",
      "   ---------------------------------------  7.6/7.6 MB 15.7 MB/s eta 0:00:01\n",
      "   ---------------------------------------- 7.6/7.6 MB 14.8 MB/s eta 0:00:00\n",
      "Downloading contourpy-1.2.0-cp312-cp312-win_amd64.whl (187 kB)\n",
      "   ---------------------------------------- 0.0/187.7 kB ? eta -:--:--\n",
      "   --------------------------------------- 187.7/187.7 kB 11.8 MB/s eta 0:00:00\n",
      "Downloading cycler-0.12.1-py3-none-any.whl (8.3 kB)\n",
      "Downloading fonttools-4.44.0-cp312-cp312-win_amd64.whl (2.1 MB)\n",
      "   ---------------------------------------- 0.0/2.1 MB ? eta -:--:--\n",
      "   ------------------------------- -------- 1.7/2.1 MB 53.5 MB/s eta 0:00:01\n",
      "   ---------------------------------------- 2.1/2.1 MB 33.7 MB/s eta 0:00:00\n",
      "Downloading kiwisolver-1.4.5-cp312-cp312-win_amd64.whl (56 kB)\n",
      "   ---------------------------------------- 0.0/56.0 kB ? eta -:--:--\n",
      "   ---------------------------------------- 56.0/56.0 kB 2.9 MB/s eta 0:00:00\n",
      "Downloading Pillow-10.1.0-cp312-cp312-win_amd64.whl (2.6 MB)\n",
      "   ---------------------------------------- 0.0/2.6 MB ? eta -:--:--\n",
      "   ---------------------------------- ----- 2.2/2.6 MB 47.1 MB/s eta 0:00:01\n",
      "   ---------------------------------------- 2.6/2.6 MB 32.9 MB/s eta 0:00:00\n",
      "Downloading pyparsing-3.1.1-py3-none-any.whl (103 kB)\n",
      "   ---------------------------------------- 0.0/103.1 kB ? eta -:--:--\n",
      "   ---------------------------------------- 103.1/103.1 kB ? eta 0:00:00\n",
      "Installing collected packages: pyparsing, pillow, kiwisolver, fonttools, cycler, contourpy, matplotlib\n",
      "Successfully installed contourpy-1.2.0 cycler-0.12.1 fonttools-4.44.0 kiwisolver-1.4.5 matplotlib-3.8.1 pillow-10.1.0 pyparsing-3.1.1\n"
     ]
    },
    {
     "name": "stderr",
     "output_type": "stream",
     "text": [
      "\n",
      "[notice] A new release of pip is available: 23.2.1 -> 23.3.1\n",
      "[notice] To update, run: python.exe -m pip install --upgrade pip\n"
     ]
    },
    {
     "name": "stdout",
     "output_type": "stream",
     "text": [
      "Defaulting to user installation because normal site-packages is not writeable\n",
      "Collecting scikit-learn\n",
      "  Obtaining dependency information for scikit-learn from https://files.pythonhosted.org/packages/fe/6b/db949ed5ac367987b1f250f070f340b7715d22f0c9c965bdf07de6ca75a3/scikit_learn-1.3.2-cp312-cp312-win_amd64.whl.metadata\n",
      "  Downloading scikit_learn-1.3.2-cp312-cp312-win_amd64.whl.metadata (11 kB)\n",
      "Requirement already satisfied: numpy<2.0,>=1.17.3 in c:\\users\\dtorr\\appdata\\roaming\\python\\python312\\site-packages (from scikit-learn) (1.26.1)\n",
      "Collecting scipy>=1.5.0 (from scikit-learn)\n",
      "  Obtaining dependency information for scipy>=1.5.0 from https://files.pythonhosted.org/packages/f4/ce/be0b376ba6069f3f8ba240aa532a374733447453c93582d4c474effdde21/scipy-1.11.3-cp312-cp312-win_amd64.whl.metadata\n",
      "  Downloading scipy-1.11.3-cp312-cp312-win_amd64.whl.metadata (60 kB)\n",
      "     ---------------------------------------- 0.0/60.4 kB ? eta -:--:--\n",
      "     --------------------------------- ------ 51.2/60.4 kB 1.3 MB/s eta 0:00:01\n",
      "     ---------------------------------------- 60.4/60.4 kB 1.6 MB/s eta 0:00:00\n",
      "Collecting joblib>=1.1.1 (from scikit-learn)\n",
      "  Obtaining dependency information for joblib>=1.1.1 from https://files.pythonhosted.org/packages/10/40/d551139c85db202f1f384ba8bcf96aca2f329440a844f924c8a0040b6d02/joblib-1.3.2-py3-none-any.whl.metadata\n",
      "  Downloading joblib-1.3.2-py3-none-any.whl.metadata (5.4 kB)\n",
      "Collecting threadpoolctl>=2.0.0 (from scikit-learn)\n",
      "  Obtaining dependency information for threadpoolctl>=2.0.0 from https://files.pythonhosted.org/packages/81/12/fd4dea011af9d69e1cad05c75f3f7202cdcbeac9b712eea58ca779a72865/threadpoolctl-3.2.0-py3-none-any.whl.metadata\n",
      "  Downloading threadpoolctl-3.2.0-py3-none-any.whl.metadata (10.0 kB)\n",
      "Downloading scikit_learn-1.3.2-cp312-cp312-win_amd64.whl (9.1 MB)\n",
      "   ---------------------------------------- 0.0/9.1 MB ? eta -:--:--\n",
      "   -- ------------------------------------- 0.5/9.1 MB 11.1 MB/s eta 0:00:01\n",
      "   ----- ---------------------------------- 1.2/9.1 MB 13.2 MB/s eta 0:00:01\n",
      "   --------- ------------------------------ 2.2/9.1 MB 15.3 MB/s eta 0:00:01\n",
      "   -------------- ------------------------- 3.3/9.1 MB 17.5 MB/s eta 0:00:01\n",
      "   ----------------- ---------------------- 4.0/9.1 MB 17.2 MB/s eta 0:00:01\n",
      "   ---------------------- ----------------- 5.0/9.1 MB 17.9 MB/s eta 0:00:01\n",
      "   ---------------------------- ----------- 6.5/9.1 MB 19.6 MB/s eta 0:00:01\n",
      "   ----------------------------------- ---- 8.1/9.1 MB 21.7 MB/s eta 0:00:01\n",
      "   ---------------------------------------  9.1/9.1 MB 22.4 MB/s eta 0:00:01\n",
      "   ---------------------------------------- 9.1/9.1 MB 20.8 MB/s eta 0:00:00\n",
      "Downloading joblib-1.3.2-py3-none-any.whl (302 kB)\n",
      "   ---------------------------------------- 0.0/302.2 kB ? eta -:--:--\n",
      "   ---------------------------------------- 302.2/302.2 kB ? eta 0:00:00\n",
      "Downloading scipy-1.11.3-cp312-cp312-win_amd64.whl (43.7 MB)\n",
      "   ---------------------------------------- 0.0/43.7 MB ? eta -:--:--\n",
      "   - -------------------------------------- 1.8/43.7 MB 57.8 MB/s eta 0:00:01\n",
      "   --- ------------------------------------ 3.5/43.7 MB 44.4 MB/s eta 0:00:01\n",
      "   ---- ----------------------------------- 5.2/43.7 MB 41.7 MB/s eta 0:00:01\n",
      "   ------ --------------------------------- 7.0/43.7 MB 40.8 MB/s eta 0:00:01\n",
      "   -------- ------------------------------- 9.4/43.7 MB 43.0 MB/s eta 0:00:01\n",
      "   ------------ --------------------------- 13.2/43.7 MB 50.4 MB/s eta 0:00:01\n",
      "   --------------- ------------------------ 16.4/43.7 MB 59.5 MB/s eta 0:00:01\n",
      "   ------------------ --------------------- 20.7/43.7 MB 72.6 MB/s eta 0:00:01\n",
      "   ---------------------- ----------------- 24.6/43.7 MB 93.0 MB/s eta 0:00:01\n",
      "   --------------------------- ------------ 29.6/43.7 MB 108.8 MB/s eta 0:00:01\n",
      "   ------------------------------ --------- 33.1/43.7 MB 93.0 MB/s eta 0:00:01\n",
      "   ---------------------------------- ----- 38.2/43.7 MB 93.9 MB/s eta 0:00:01\n",
      "   ---------------------------------------  43.3/43.7 MB 110.0 MB/s eta 0:00:01\n",
      "   ---------------------------------------  43.7/43.7 MB 131.2 MB/s eta 0:00:01\n",
      "   ---------------------------------------  43.7/43.7 MB 131.2 MB/s eta 0:00:01\n",
      "   ---------------------------------------  43.7/43.7 MB 131.2 MB/s eta 0:00:01\n",
      "   ---------------------------------------- 43.7/43.7 MB 43.5 MB/s eta 0:00:00\n",
      "Downloading threadpoolctl-3.2.0-py3-none-any.whl (15 kB)\n",
      "Installing collected packages: threadpoolctl, scipy, joblib, scikit-learn\n",
      "Successfully installed joblib-1.3.2 scikit-learn-1.3.2 scipy-1.11.3 threadpoolctl-3.2.0\n"
     ]
    },
    {
     "name": "stderr",
     "output_type": "stream",
     "text": [
      "\n",
      "[notice] A new release of pip is available: 23.2.1 -> 23.3.1\n",
      "[notice] To update, run: python.exe -m pip install --upgrade pip\n"
     ]
    },
    {
     "name": "stdout",
     "output_type": "stream",
     "text": [
      "Defaulting to user installation because normal site-packages is not writeable\n",
      "Requirement already satisfied: joblib in c:\\users\\dtorr\\appdata\\roaming\\python\\python312\\site-packages (1.3.2)\n"
     ]
    },
    {
     "name": "stderr",
     "output_type": "stream",
     "text": [
      "\n",
      "[notice] A new release of pip is available: 23.2.1 -> 23.3.1\n",
      "[notice] To update, run: python.exe -m pip install --upgrade pip\n"
     ]
    }
   ],
   "source": [
    "!pip install numpy\n",
    "!pip install pandas\n",
    "!pip install matplotlib\n",
    "!pip install scikit-learn\n",
    "!pip install joblib"
   ]
  },
  {
   "cell_type": "code",
   "execution_count": 1,
   "metadata": {},
   "outputs": [],
   "source": [
    "import numpy as np\n",
    "import matplotlib.pyplot as plt\n",
    "from sklearn.ensemble import RandomForestRegressor\n",
    "from joblib import load"
   ]
  },
  {
   "cell_type": "code",
   "execution_count": 14,
   "metadata": {},
   "outputs": [
    {
     "ename": "MemoryError",
     "evalue": "could not allocate 127304256 bytes",
     "output_type": "error",
     "traceback": [
      "\u001b[1;31m---------------------------------------------------------------------------\u001b[0m",
      "\u001b[1;31mMemoryError\u001b[0m                               Traceback (most recent call last)",
      "\u001b[1;32mc:\\Users\\Dtorr\\development\\dev-projects\\cis182-CW\\python\\notebooks\\mapping-predictions.ipynb Cell 3\u001b[0m line \u001b[0;36m3\n\u001b[0;32m      <a href='vscode-notebook-cell:/c%3A/Users/Dtorr/development/dev-projects/cis182-CW/python/notebooks/mapping-predictions.ipynb#W2sZmlsZQ%3D%3D?line=0'>1</a>\u001b[0m \u001b[39m# Load the saved model\u001b[39;00m\n\u001b[0;32m      <a href='vscode-notebook-cell:/c%3A/Users/Dtorr/development/dev-projects/cis182-CW/python/notebooks/mapping-predictions.ipynb#W2sZmlsZQ%3D%3D?line=1'>2</a>\u001b[0m \u001b[39mfrom\u001b[39;00m \u001b[39mjoblib\u001b[39;00m \u001b[39mimport\u001b[39;00m load\n\u001b[1;32m----> <a href='vscode-notebook-cell:/c%3A/Users/Dtorr/development/dev-projects/cis182-CW/python/notebooks/mapping-predictions.ipynb#W2sZmlsZQ%3D%3D?line=2'>3</a>\u001b[0m model \u001b[39m=\u001b[39m load(\u001b[39mr\u001b[39;49m\u001b[39m'\u001b[39;49m\u001b[39m..\u001b[39;49m\u001b[39m\\\u001b[39;49m\u001b[39mmodels\u001b[39;49m\u001b[39m\\\u001b[39;49m\u001b[39mrandom-forest-location-model.joblib\u001b[39;49m\u001b[39m'\u001b[39;49m)\n\u001b[0;32m      <a href='vscode-notebook-cell:/c%3A/Users/Dtorr/development/dev-projects/cis182-CW/python/notebooks/mapping-predictions.ipynb#W2sZmlsZQ%3D%3D?line=4'>5</a>\u001b[0m \u001b[39m# Create a grid of latitude and longitude values\u001b[39;00m\n\u001b[0;32m      <a href='vscode-notebook-cell:/c%3A/Users/Dtorr/development/dev-projects/cis182-CW/python/notebooks/mapping-predictions.ipynb#W2sZmlsZQ%3D%3D?line=5'>6</a>\u001b[0m lat_values \u001b[39m=\u001b[39m np\u001b[39m.\u001b[39mlinspace(\u001b[39m24.396308\u001b[39m, \u001b[39m49.384358\u001b[39m, num\u001b[39m=\u001b[39m\u001b[39m25\u001b[39m)\n",
      "File \u001b[1;32m~\\AppData\\Roaming\\Python\\Python312\\site-packages\\joblib\\numpy_pickle.py:658\u001b[0m, in \u001b[0;36mload\u001b[1;34m(filename, mmap_mode)\u001b[0m\n\u001b[0;32m    652\u001b[0m             \u001b[39mif\u001b[39;00m \u001b[39misinstance\u001b[39m(fobj, \u001b[39mstr\u001b[39m):\n\u001b[0;32m    653\u001b[0m                 \u001b[39m# if the returned file object is a string, this means we\u001b[39;00m\n\u001b[0;32m    654\u001b[0m                 \u001b[39m# try to load a pickle file generated with an version of\u001b[39;00m\n\u001b[0;32m    655\u001b[0m                 \u001b[39m# Joblib so we load it with joblib compatibility function.\u001b[39;00m\n\u001b[0;32m    656\u001b[0m                 \u001b[39mreturn\u001b[39;00m load_compatibility(fobj)\n\u001b[1;32m--> 658\u001b[0m             obj \u001b[39m=\u001b[39m _unpickle(fobj, filename, mmap_mode)\n\u001b[0;32m    659\u001b[0m \u001b[39mreturn\u001b[39;00m obj\n",
      "File \u001b[1;32m~\\AppData\\Roaming\\Python\\Python312\\site-packages\\joblib\\numpy_pickle.py:577\u001b[0m, in \u001b[0;36m_unpickle\u001b[1;34m(fobj, filename, mmap_mode)\u001b[0m\n\u001b[0;32m    575\u001b[0m obj \u001b[39m=\u001b[39m \u001b[39mNone\u001b[39;00m\n\u001b[0;32m    576\u001b[0m \u001b[39mtry\u001b[39;00m:\n\u001b[1;32m--> 577\u001b[0m     obj \u001b[39m=\u001b[39m unpickler\u001b[39m.\u001b[39;49mload()\n\u001b[0;32m    578\u001b[0m     \u001b[39mif\u001b[39;00m unpickler\u001b[39m.\u001b[39mcompat_mode:\n\u001b[0;32m    579\u001b[0m         warnings\u001b[39m.\u001b[39mwarn(\u001b[39m\"\u001b[39m\u001b[39mThe file \u001b[39m\u001b[39m'\u001b[39m\u001b[39m%s\u001b[39;00m\u001b[39m'\u001b[39m\u001b[39m has been generated with a \u001b[39m\u001b[39m\"\u001b[39m\n\u001b[0;32m    580\u001b[0m                       \u001b[39m\"\u001b[39m\u001b[39mjoblib version less than 0.10. \u001b[39m\u001b[39m\"\u001b[39m\n\u001b[0;32m    581\u001b[0m                       \u001b[39m\"\u001b[39m\u001b[39mPlease regenerate this pickle file.\u001b[39m\u001b[39m\"\u001b[39m\n\u001b[0;32m    582\u001b[0m                       \u001b[39m%\u001b[39m filename,\n\u001b[0;32m    583\u001b[0m                       \u001b[39mDeprecationWarning\u001b[39;00m, stacklevel\u001b[39m=\u001b[39m\u001b[39m3\u001b[39m)\n",
      "File \u001b[1;32mc:\\Program Files\\Python312\\Lib\\pickle.py:1205\u001b[0m, in \u001b[0;36m_Unpickler.load\u001b[1;34m(self)\u001b[0m\n\u001b[0;32m   1203\u001b[0m             \u001b[39mraise\u001b[39;00m \u001b[39mEOFError\u001b[39;00m\n\u001b[0;32m   1204\u001b[0m         \u001b[39massert\u001b[39;00m \u001b[39misinstance\u001b[39m(key, bytes_types)\n\u001b[1;32m-> 1205\u001b[0m         dispatch[key[\u001b[39m0\u001b[39;49m]](\u001b[39mself\u001b[39;49m)\n\u001b[0;32m   1206\u001b[0m \u001b[39mexcept\u001b[39;00m _Stop \u001b[39mas\u001b[39;00m stopinst:\n\u001b[0;32m   1207\u001b[0m     \u001b[39mreturn\u001b[39;00m stopinst\u001b[39m.\u001b[39mvalue\n",
      "File \u001b[1;32m~\\AppData\\Roaming\\Python\\Python312\\site-packages\\joblib\\numpy_pickle.py:402\u001b[0m, in \u001b[0;36mNumpyUnpickler.load_build\u001b[1;34m(self)\u001b[0m\n\u001b[0;32m    394\u001b[0m \u001b[39mdef\u001b[39;00m \u001b[39mload_build\u001b[39m(\u001b[39mself\u001b[39m):\n\u001b[0;32m    395\u001b[0m \u001b[39m    \u001b[39m\u001b[39m\"\"\"Called to set the state of a newly created object.\u001b[39;00m\n\u001b[0;32m    396\u001b[0m \n\u001b[0;32m    397\u001b[0m \u001b[39m    We capture it to replace our place-holder objects, NDArrayWrapper or\u001b[39;00m\n\u001b[1;32m   (...)\u001b[0m\n\u001b[0;32m    400\u001b[0m \u001b[39m    NDArrayWrapper is used for backward compatibility with joblib <= 0.9.\u001b[39;00m\n\u001b[0;32m    401\u001b[0m \u001b[39m    \"\"\"\u001b[39;00m\n\u001b[1;32m--> 402\u001b[0m     Unpickler\u001b[39m.\u001b[39;49mload_build(\u001b[39mself\u001b[39;49m)\n\u001b[0;32m    404\u001b[0m     \u001b[39m# For backward compatibility, we support NDArrayWrapper objects.\u001b[39;00m\n\u001b[0;32m    405\u001b[0m     \u001b[39mif\u001b[39;00m \u001b[39misinstance\u001b[39m(\u001b[39mself\u001b[39m\u001b[39m.\u001b[39mstack[\u001b[39m-\u001b[39m\u001b[39m1\u001b[39m], (NDArrayWrapper, NumpyArrayWrapper)):\n",
      "File \u001b[1;32mc:\\Program Files\\Python312\\Lib\\pickle.py:1710\u001b[0m, in \u001b[0;36m_Unpickler.load_build\u001b[1;34m(self)\u001b[0m\n\u001b[0;32m   1708\u001b[0m setstate \u001b[39m=\u001b[39m \u001b[39mgetattr\u001b[39m(inst, \u001b[39m\"\u001b[39m\u001b[39m__setstate__\u001b[39m\u001b[39m\"\u001b[39m, \u001b[39mNone\u001b[39;00m)\n\u001b[0;32m   1709\u001b[0m \u001b[39mif\u001b[39;00m setstate \u001b[39mis\u001b[39;00m \u001b[39mnot\u001b[39;00m \u001b[39mNone\u001b[39;00m:\n\u001b[1;32m-> 1710\u001b[0m     setstate(state)\n\u001b[0;32m   1711\u001b[0m     \u001b[39mreturn\u001b[39;00m\n\u001b[0;32m   1712\u001b[0m slotstate \u001b[39m=\u001b[39m \u001b[39mNone\u001b[39;00m\n",
      "File \u001b[1;32msklearn\\tree\\_tree.pyx:736\u001b[0m, in \u001b[0;36msklearn.tree._tree.Tree.__setstate__\u001b[1;34m()\u001b[0m\n",
      "File \u001b[1;32msklearn\\tree\\_tree.pyx:771\u001b[0m, in \u001b[0;36msklearn.tree._tree.Tree._resize_c\u001b[1;34m()\u001b[0m\n",
      "File \u001b[1;32msklearn\\tree\\_utils.pyx:37\u001b[0m, in \u001b[0;36msklearn.tree._utils.safe_realloc\u001b[1;34m()\u001b[0m\n",
      "\u001b[1;31mMemoryError\u001b[0m: could not allocate 127304256 bytes"
     ]
    }
   ],
   "source": [
    "# Load the saved model\n",
    "from joblib import load\n",
    "model = load(r'..\\models\\random-forest-location-model.joblib')\n",
    "\n",
    "# Create a grid of latitude and longitude values\n",
    "lat_values = np.linspace(24.396308, 49.384358, num=25)\n",
    "lon_values = np.linspace(-125.000000, -66.934570, num=25)\n",
    "lat_lon_grid = np.array(np.meshgrid(lat_values, lon_values)).T.reshape(-1, 2)\n",
    "\n",
    "# Load the features used for training\n",
    "import pandas as pd\n",
    "location_features = pd.read_csv('../data/processed/location_features.csv')\n",
    "\n",
    "# Ensure that location_features has 30 features\n",
    "assert location_features.shape[1] == 30, \"location_features should have 30 features\"\n",
    "\n",
    "# Calculate the mean values of all columns\n",
    "mean_values = location_features.mean()\n",
    "\n",
    "# Repeat the mean values for each point on the grid\n",
    "additional_features = np.repeat(mean_values.values[None, :], len(lat_lon_grid), axis=0)\n",
    "\n",
    "# Use the model to make predictions for each point on the grid\n",
    "predictions = model.predict(additional_features)\n",
    "\n",
    "# Create a map using the latitude and longitude grid, and color each point based on the prediction\n",
    "import matplotlib.pyplot as plt\n",
    "plt.scatter(lat_lon_grid[:, 0], lat_lon_grid[:, 1], c=predictions)\n",
    "plt.colorbar(label='Prediction')\n",
    "plt.xlabel('Latitude')\n",
    "plt.ylabel('Longitude')\n",
    "plt.title('Random Forest Predictions for USA')\n",
    "plt.show()"
   ]
  },
  {
   "cell_type": "code",
   "execution_count": 13,
   "metadata": {},
   "outputs": [
    {
     "name": "stdout",
     "output_type": "stream",
     "text": [
      "30\n"
     ]
    }
   ],
   "source": [
    "# Print the number of features in location_features\n",
    "print(location_features.shape[1])"
   ]
  },
  {
   "cell_type": "code",
   "execution_count": null,
   "metadata": {},
   "outputs": [],
   "source": []
  }
 ],
 "metadata": {
  "kernelspec": {
   "display_name": "Python 3",
   "language": "python",
   "name": "python3"
  },
  "language_info": {
   "codemirror_mode": {
    "name": "ipython",
    "version": 3
   },
   "file_extension": ".py",
   "mimetype": "text/x-python",
   "name": "python",
   "nbconvert_exporter": "python",
   "pygments_lexer": "ipython3",
   "version": "3.12.0"
  }
 },
 "nbformat": 4,
 "nbformat_minor": 2
}
