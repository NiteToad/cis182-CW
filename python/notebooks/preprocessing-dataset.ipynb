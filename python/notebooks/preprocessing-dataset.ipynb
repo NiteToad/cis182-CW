{
 "cells": [
  {
   "cell_type": "code",
   "execution_count": 1,
   "metadata": {},
   "outputs": [],
   "source": [
    "import pandas as pd \n",
    "from sklearn.model_selection import train_test_split\n",
    "from sklearn.preprocessing import KBinsDiscretizer"
   ]
  },
  {
   "cell_type": "code",
   "execution_count": 3,
   "metadata": {},
   "outputs": [],
   "source": [
    "# loading dataset\n",
    "df = pd.read_csv(\"../data/unprocessed/wildfire-dataset.csv\", low_memory=False)"
   ]
  },
  {
   "cell_type": "code",
   "execution_count": 4,
   "metadata": {},
   "outputs": [
    {
     "name": "stdout",
     "output_type": "stream",
     "text": [
      "<class 'pandas.core.frame.DataFrame'>\n",
      "RangeIndex: 2166753 entries, 0 to 2166752\n",
      "Data columns (total 37 columns):\n",
      " #   Column                         Dtype  \n",
      "---  ------                         -----  \n",
      " 0   FOD_ID                         int64  \n",
      " 1   FPA_ID                         object \n",
      " 2   SOURCE_SYSTEM_TYPE             object \n",
      " 3   SOURCE_SYSTEM                  object \n",
      " 4   NWCG_REPORTING_AGENCY          object \n",
      " 5   NWCG_REPORTING_UNIT_ID         object \n",
      " 6   NWCG_REPORTING_UNIT_NAME       object \n",
      " 7   SOURCE_REPORTING_UNIT          object \n",
      " 8   SOURCE_REPORTING_UNIT_NAME     object \n",
      " 9   LOCAL_FIRE_REPORT_ID           object \n",
      " 10  LOCAL_INCIDENT_ID              object \n",
      " 11  FIRE_CODE                      object \n",
      " 12  FIRE_NAME                      object \n",
      " 13  ICS_209_PLUS_INCIDENT_JOIN_ID  object \n",
      " 14  ICS_209_PLUS_COMPLEX_JOIN_ID   object \n",
      " 15  MTBS_ID                        object \n",
      " 16  MTBS_FIRE_NAME                 object \n",
      " 17  COMPLEX_NAME                   object \n",
      " 18  FIRE_YEAR                      int64  \n",
      " 19  DISCOVERY_DATE                 object \n",
      " 20  DISCOVERY_DOY                  int64  \n",
      " 21  DISCOVERY_TIME                 float64\n",
      " 22  NWCG_CAUSE_CLASSIFICATION      object \n",
      " 23  NWCG_GENERAL_CAUSE             object \n",
      " 24  NWCG_CAUSE_AGE_CATEGORY        object \n",
      " 25  CONT_DATE                      object \n",
      " 26  CONT_DOY                       float64\n",
      " 27  CONT_TIME                      float64\n",
      " 28  FIRE_SIZE                      float64\n",
      " 29  FIRE_SIZE_CLASS                object \n",
      " 30  LATITUDE                       float64\n",
      " 31  LONGITUDE                      float64\n",
      " 32  OWNER_DESCR                    object \n",
      " 33  STATE                          object \n",
      " 34  COUNTY                         object \n",
      " 35  FIPS_CODE                      float64\n",
      " 36  FIPS_NAME                      object \n",
      "dtypes: float64(7), int64(3), object(27)\n",
      "memory usage: 611.6+ MB\n"
     ]
    }
   ],
   "source": [
    "df.info()"
   ]
  },
  {
   "cell_type": "code",
   "execution_count": 5,
   "metadata": {},
   "outputs": [
    {
     "data": {
      "text/plain": [
       "FOD_ID                                 0\n",
       "FPA_ID                                 0\n",
       "SOURCE_SYSTEM_TYPE                     0\n",
       "SOURCE_SYSTEM                          0\n",
       "NWCG_REPORTING_AGENCY                  0\n",
       "NWCG_REPORTING_UNIT_ID                 0\n",
       "NWCG_REPORTING_UNIT_NAME               0\n",
       "SOURCE_REPORTING_UNIT                  0\n",
       "SOURCE_REPORTING_UNIT_NAME             0\n",
       "LOCAL_FIRE_REPORT_ID             1701854\n",
       "LOCAL_INCIDENT_ID                 734948\n",
       "FIRE_CODE                        1797127\n",
       "FIRE_NAME                         960596\n",
       "ICS_209_PLUS_INCIDENT_JOIN_ID    2135993\n",
       "ICS_209_PLUS_COMPLEX_JOIN_ID     2165833\n",
       "MTBS_ID                          2153848\n",
       "MTBS_FIRE_NAME                   2153848\n",
       "COMPLEX_NAME                     2161081\n",
       "FIRE_YEAR                              0\n",
       "DISCOVERY_DATE                         0\n",
       "DISCOVERY_DOY                          0\n",
       "DISCOVERY_TIME                    754468\n",
       "NWCG_CAUSE_CLASSIFICATION              1\n",
       "NWCG_GENERAL_CAUSE                     0\n",
       "NWCG_CAUSE_AGE_CATEGORY          2093127\n",
       "CONT_DATE                         854553\n",
       "CONT_DOY                          854553\n",
       "CONT_TIME                         933151\n",
       "FIRE_SIZE                              0\n",
       "FIRE_SIZE_CLASS                        0\n",
       "LATITUDE                               0\n",
       "LONGITUDE                              0\n",
       "OWNER_DESCR                            0\n",
       "STATE                                  0\n",
       "COUNTY                            657235\n",
       "FIPS_CODE                         657235\n",
       "FIPS_NAME                         657236\n",
       "dtype: int64"
      ]
     },
     "execution_count": 5,
     "metadata": {},
     "output_type": "execute_result"
    }
   ],
   "source": [
    "df.isna().sum()"
   ]
  },
  {
   "cell_type": "code",
   "execution_count": 6,
   "metadata": {},
   "outputs": [],
   "source": [
    "df = df.drop(columns=[\"ICS_209_PLUS_INCIDENT_JOIN_ID\", \"ICS_209_PLUS_COMPLEX_JOIN_ID\", \"MTBS_ID\", \"MTBS_FIRE_NAME\", \"COMPLEX_NAME\", \"LOCAL_FIRE_REPORT_ID\",\"FIRE_CODE\", \"FIRE_NAME\", \"LOCAL_INCIDENT_ID\", \"DISCOVERY_TIME\", \"NWCG_CAUSE_AGE_CATEGORY\", \"CONT_DATE\", \"CONT_DOY\", \"CONT_TIME\", \"FIPS_CODE\", \"FIPS_NAME\"], axis=1)"
   ]
  },
  {
   "cell_type": "code",
   "execution_count": 7,
   "metadata": {},
   "outputs": [
    {
     "name": "stdout",
     "output_type": "stream",
     "text": [
      "<class 'pandas.core.frame.DataFrame'>\n",
      "RangeIndex: 2166753 entries, 0 to 2166752\n",
      "Data columns (total 21 columns):\n",
      " #   Column                      Dtype  \n",
      "---  ------                      -----  \n",
      " 0   FOD_ID                      int64  \n",
      " 1   FPA_ID                      object \n",
      " 2   SOURCE_SYSTEM_TYPE          object \n",
      " 3   SOURCE_SYSTEM               object \n",
      " 4   NWCG_REPORTING_AGENCY       object \n",
      " 5   NWCG_REPORTING_UNIT_ID      object \n",
      " 6   NWCG_REPORTING_UNIT_NAME    object \n",
      " 7   SOURCE_REPORTING_UNIT       object \n",
      " 8   SOURCE_REPORTING_UNIT_NAME  object \n",
      " 9   FIRE_YEAR                   int64  \n",
      " 10  DISCOVERY_DATE              object \n",
      " 11  DISCOVERY_DOY               int64  \n",
      " 12  NWCG_CAUSE_CLASSIFICATION   object \n",
      " 13  NWCG_GENERAL_CAUSE          object \n",
      " 14  FIRE_SIZE                   float64\n",
      " 15  FIRE_SIZE_CLASS             object \n",
      " 16  LATITUDE                    float64\n",
      " 17  LONGITUDE                   float64\n",
      " 18  OWNER_DESCR                 object \n",
      " 19  STATE                       object \n",
      " 20  COUNTY                      object \n",
      "dtypes: float64(3), int64(3), object(15)\n",
      "memory usage: 347.2+ MB\n"
     ]
    }
   ],
   "source": [
    "df.info()"
   ]
  },
  {
   "cell_type": "code",
   "execution_count": 8,
   "metadata": {},
   "outputs": [
    {
     "data": {
      "text/plain": [
       "FOD_ID                             0\n",
       "FPA_ID                             0\n",
       "SOURCE_SYSTEM_TYPE                 0\n",
       "SOURCE_SYSTEM                      0\n",
       "NWCG_REPORTING_AGENCY              0\n",
       "NWCG_REPORTING_UNIT_ID             0\n",
       "NWCG_REPORTING_UNIT_NAME           0\n",
       "SOURCE_REPORTING_UNIT              0\n",
       "SOURCE_REPORTING_UNIT_NAME         0\n",
       "FIRE_YEAR                          0\n",
       "DISCOVERY_DATE                     0\n",
       "DISCOVERY_DOY                      0\n",
       "NWCG_CAUSE_CLASSIFICATION          1\n",
       "NWCG_GENERAL_CAUSE                 0\n",
       "FIRE_SIZE                          0\n",
       "FIRE_SIZE_CLASS                    0\n",
       "LATITUDE                           0\n",
       "LONGITUDE                          0\n",
       "OWNER_DESCR                        0\n",
       "STATE                              0\n",
       "COUNTY                        657235\n",
       "dtype: int64"
      ]
     },
     "execution_count": 8,
     "metadata": {},
     "output_type": "execute_result"
    }
   ],
   "source": [
    "df.isna().sum()"
   ]
  },
  {
   "cell_type": "code",
   "execution_count": 9,
   "metadata": {},
   "outputs": [
    {
     "name": "stdout",
     "output_type": "stream",
     "text": [
      "Loading formatted geocoded file...\n"
     ]
    }
   ],
   "source": [
    "import reverse_geocoder as rg \n",
    "\n",
    "missing_county = df[df['COUNTY'].isna()]\n",
    "\n",
    "coordinates = list(zip(missing_county.LATITUDE, missing_county.LONGITUDE))\n",
    "results = rg.search(coordinates)\n",
    "\n",
    "df.loc[df['COUNTY'].isna(), 'COUNTY'] = [r['admin2'] for r in results]"
   ]
  },
  {
   "cell_type": "code",
   "execution_count": 10,
   "metadata": {},
   "outputs": [
    {
     "data": {
      "text/plain": [
       "FOD_ID                        0\n",
       "FPA_ID                        0\n",
       "SOURCE_SYSTEM_TYPE            0\n",
       "SOURCE_SYSTEM                 0\n",
       "NWCG_REPORTING_AGENCY         0\n",
       "NWCG_REPORTING_UNIT_ID        0\n",
       "NWCG_REPORTING_UNIT_NAME      0\n",
       "SOURCE_REPORTING_UNIT         0\n",
       "SOURCE_REPORTING_UNIT_NAME    0\n",
       "FIRE_YEAR                     0\n",
       "DISCOVERY_DATE                0\n",
       "DISCOVERY_DOY                 0\n",
       "NWCG_CAUSE_CLASSIFICATION     1\n",
       "NWCG_GENERAL_CAUSE            0\n",
       "FIRE_SIZE                     0\n",
       "FIRE_SIZE_CLASS               0\n",
       "LATITUDE                      0\n",
       "LONGITUDE                     0\n",
       "OWNER_DESCR                   0\n",
       "STATE                         0\n",
       "COUNTY                        0\n",
       "dtype: int64"
      ]
     },
     "execution_count": 10,
     "metadata": {},
     "output_type": "execute_result"
    }
   ],
   "source": [
    "df.isna().sum()"
   ]
  },
  {
   "cell_type": "code",
   "execution_count": 11,
   "metadata": {},
   "outputs": [
    {
     "name": "stdout",
     "output_type": "stream",
     "text": [
      "<class 'pandas.core.frame.DataFrame'>\n",
      "RangeIndex: 2166753 entries, 0 to 2166752\n",
      "Data columns (total 21 columns):\n",
      " #   Column                      Dtype  \n",
      "---  ------                      -----  \n",
      " 0   FOD_ID                      int64  \n",
      " 1   FPA_ID                      object \n",
      " 2   SOURCE_SYSTEM_TYPE          object \n",
      " 3   SOURCE_SYSTEM               object \n",
      " 4   NWCG_REPORTING_AGENCY       object \n",
      " 5   NWCG_REPORTING_UNIT_ID      object \n",
      " 6   NWCG_REPORTING_UNIT_NAME    object \n",
      " 7   SOURCE_REPORTING_UNIT       object \n",
      " 8   SOURCE_REPORTING_UNIT_NAME  object \n",
      " 9   FIRE_YEAR                   int64  \n",
      " 10  DISCOVERY_DATE              object \n",
      " 11  DISCOVERY_DOY               int64  \n",
      " 12  NWCG_CAUSE_CLASSIFICATION   object \n",
      " 13  NWCG_GENERAL_CAUSE          object \n",
      " 14  FIRE_SIZE                   float64\n",
      " 15  FIRE_SIZE_CLASS             object \n",
      " 16  LATITUDE                    float64\n",
      " 17  LONGITUDE                   float64\n",
      " 18  OWNER_DESCR                 object \n",
      " 19  STATE                       object \n",
      " 20  COUNTY                      object \n",
      "dtypes: float64(3), int64(3), object(15)\n",
      "memory usage: 347.2+ MB\n"
     ]
    }
   ],
   "source": [
    "df.info()"
   ]
  },
  {
   "cell_type": "code",
   "execution_count": 12,
   "metadata": {},
   "outputs": [],
   "source": [
    "df.columns = df.columns.str.lower()"
   ]
  },
  {
   "cell_type": "code",
   "execution_count": 13,
   "metadata": {},
   "outputs": [],
   "source": [
    "df['county'] = df['county'].str.lower()\n",
    "df['nwcg_cause_classification'] = df['nwcg_cause_classification'].str.lower()\n",
    "df['nwcg_general_cause'] = df['nwcg_general_cause'].str.lower()\n",
    "df['fire_size_class'] = df['fire_size_class'].str.lower()\n",
    "df['state'] = df['state'].str.lower()"
   ]
  },
  {
   "cell_type": "code",
   "execution_count": 14,
   "metadata": {},
   "outputs": [],
   "source": [
    "# drop 'source_system_type', 'source_system', 'nwcg_reporting_agency', 'nwcg_reporting_unit_id', 'nwcg_reporting_unit_name', 'source_reporting_unit', 'source_reporting_unit_name', 'owner_descr',"
   ]
  },
  {
   "cell_type": "code",
   "execution_count": 15,
   "metadata": {},
   "outputs": [],
   "source": [
    "df = df.drop(columns=['source_system_type', 'source_system', 'nwcg_reporting_agency', 'nwcg_reporting_unit_id', 'nwcg_reporting_unit_name', 'source_reporting_unit', 'source_reporting_unit_name', 'owner_descr'], axis=1)"
   ]
  },
  {
   "cell_type": "code",
   "execution_count": 16,
   "metadata": {},
   "outputs": [
    {
     "name": "stdout",
     "output_type": "stream",
     "text": [
      "<class 'pandas.core.frame.DataFrame'>\n",
      "RangeIndex: 2166753 entries, 0 to 2166752\n",
      "Data columns (total 13 columns):\n",
      " #   Column                     Dtype  \n",
      "---  ------                     -----  \n",
      " 0   fod_id                     int64  \n",
      " 1   fpa_id                     object \n",
      " 2   fire_year                  int64  \n",
      " 3   discovery_date             object \n",
      " 4   discovery_doy              int64  \n",
      " 5   nwcg_cause_classification  object \n",
      " 6   nwcg_general_cause         object \n",
      " 7   fire_size                  float64\n",
      " 8   fire_size_class            object \n",
      " 9   latitude                   float64\n",
      " 10  longitude                  float64\n",
      " 11  state                      object \n",
      " 12  county                     object \n",
      "dtypes: float64(3), int64(3), object(7)\n",
      "memory usage: 214.9+ MB\n"
     ]
    }
   ],
   "source": [
    "df.info()"
   ]
  },
  {
   "cell_type": "code",
   "execution_count": 17,
   "metadata": {},
   "outputs": [],
   "source": [
    "df = df.drop(columns=['fpa_id'], axis=1)"
   ]
  },
  {
   "cell_type": "code",
   "execution_count": 18,
   "metadata": {},
   "outputs": [],
   "source": [
    "df['discovery_date'] = pd.to_datetime(df['discovery_date'])\n",
    "\n",
    "# Extract year, month, day, and day of week\n",
    "df['year'] = df['discovery_date'].dt.year\n",
    "df['month'] = df['discovery_date'].dt.month\n",
    "df['day'] = df['discovery_date'].dt.day\n",
    "# df['day_of_week'] = df['discovery_date'].dt.dayofweek"
   ]
  },
  {
   "cell_type": "code",
   "execution_count": 19,
   "metadata": {},
   "outputs": [
    {
     "name": "stdout",
     "output_type": "stream",
     "text": [
      "<class 'pandas.core.frame.DataFrame'>\n",
      "RangeIndex: 2166753 entries, 0 to 2166752\n",
      "Data columns (total 15 columns):\n",
      " #   Column                     Dtype         \n",
      "---  ------                     -----         \n",
      " 0   fod_id                     int64         \n",
      " 1   fire_year                  int64         \n",
      " 2   discovery_date             datetime64[ns]\n",
      " 3   discovery_doy              int64         \n",
      " 4   nwcg_cause_classification  object        \n",
      " 5   nwcg_general_cause         object        \n",
      " 6   fire_size                  float64       \n",
      " 7   fire_size_class            object        \n",
      " 8   latitude                   float64       \n",
      " 9   longitude                  float64       \n",
      " 10  state                      object        \n",
      " 11  county                     object        \n",
      " 12  year                       int32         \n",
      " 13  month                      int32         \n",
      " 14  day                        int32         \n",
      "dtypes: datetime64[ns](1), float64(3), int32(3), int64(3), object(5)\n",
      "memory usage: 223.2+ MB\n"
     ]
    }
   ],
   "source": [
    "df.info()"
   ]
  },
  {
   "cell_type": "code",
   "execution_count": 20,
   "metadata": {},
   "outputs": [],
   "source": [
    "df = df.drop(columns=['discovery_date'], axis=1)"
   ]
  },
  {
   "cell_type": "code",
   "execution_count": 21,
   "metadata": {},
   "outputs": [],
   "source": [
    "# !pip install category_encoders"
   ]
  },
  {
   "cell_type": "code",
   "execution_count": 22,
   "metadata": {},
   "outputs": [],
   "source": [
    "import category_encoders as ce\n",
    "\n",
    "# One-hot encoding\n",
    "one_hot_encoder = ce.OneHotEncoder(cols=['nwcg_cause_classification', 'nwcg_general_cause', 'fire_size_class'])\n",
    "df = one_hot_encoder.fit_transform(df)\n",
    "\n",
    "# Target encoding for Location Model\n",
    "target_encoder_location = ce.TargetEncoder(cols=['county', 'state'])\n",
    "df_location = target_encoder_location.fit_transform(df, df['latitude'])  \n",
    "\n",
    "# Define targets and features for Location Model\n",
    "location_target = df_location[['latitude', 'longitude']]  \n",
    "location_features = df_location.drop(['fire_size', 'latitude', 'longitude'], axis=1)  \n",
    "\n",
    "# Target encoding for Size Model\n",
    "target_encoder_size = ce.TargetEncoder(cols=['county', 'state'])\n",
    "df_size = target_encoder_size.fit_transform(df, df['fire_size'])  \n",
    "\n",
    "# Define targets and features for Size Model\n",
    "size_target = df_size['fire_size']  # or 'fire_size_class'\n",
    "size_features = df_size.drop(['fire_size'], axis=1)"
   ]
  },
  {
   "cell_type": "code",
   "execution_count": 23,
   "metadata": {},
   "outputs": [
    {
     "name": "stdout",
     "output_type": "stream",
     "text": [
      "<class 'pandas.core.frame.DataFrame'>\n",
      "RangeIndex: 2166753 entries, 0 to 2166752\n",
      "Data columns (total 35 columns):\n",
      " #   Column                       Dtype  \n",
      "---  ------                       -----  \n",
      " 0   fod_id                       int64  \n",
      " 1   fire_year                    int64  \n",
      " 2   discovery_doy                int64  \n",
      " 3   nwcg_cause_classification_1  int64  \n",
      " 4   nwcg_cause_classification_2  int64  \n",
      " 5   nwcg_cause_classification_3  int64  \n",
      " 6   nwcg_cause_classification_4  int64  \n",
      " 7   nwcg_general_cause_1         int64  \n",
      " 8   nwcg_general_cause_2         int64  \n",
      " 9   nwcg_general_cause_3         int64  \n",
      " 10  nwcg_general_cause_4         int64  \n",
      " 11  nwcg_general_cause_5         int64  \n",
      " 12  nwcg_general_cause_6         int64  \n",
      " 13  nwcg_general_cause_7         int64  \n",
      " 14  nwcg_general_cause_8         int64  \n",
      " 15  nwcg_general_cause_9         int64  \n",
      " 16  nwcg_general_cause_10        int64  \n",
      " 17  nwcg_general_cause_11        int64  \n",
      " 18  nwcg_general_cause_12        int64  \n",
      " 19  nwcg_general_cause_13        int64  \n",
      " 20  fire_size                    float64\n",
      " 21  fire_size_class_1            int64  \n",
      " 22  fire_size_class_2            int64  \n",
      " 23  fire_size_class_3            int64  \n",
      " 24  fire_size_class_4            int64  \n",
      " 25  fire_size_class_5            int64  \n",
      " 26  fire_size_class_6            int64  \n",
      " 27  fire_size_class_7            int64  \n",
      " 28  latitude                     float64\n",
      " 29  longitude                    float64\n",
      " 30  state                        object \n",
      " 31  county                       object \n",
      " 32  year                         int32  \n",
      " 33  month                        int32  \n",
      " 34  day                          int32  \n",
      "dtypes: float64(3), int32(3), int64(27), object(2)\n",
      "memory usage: 553.8+ MB\n"
     ]
    }
   ],
   "source": [
    "df.info()"
   ]
  },
  {
   "cell_type": "code",
   "execution_count": 24,
   "metadata": {},
   "outputs": [],
   "source": [
    "location_features = location_features.drop(['state', 'county'], axis=1)\n",
    "size_features = size_features.drop(['state', 'county'], axis=1)"
   ]
  },
  {
   "cell_type": "code",
   "execution_count": 25,
   "metadata": {},
   "outputs": [],
   "source": [
    "location_features.to_csv('../data/processed/location_features.csv', index=False)\n",
    "location_target.to_csv('../data/processed/location_target.csv', index=False)\n",
    "size_features.to_csv('../data/processed/size_features.csv', index=False)\n",
    "size_target.to_csv('../data/processed/size_target.csv', index=False)"
   ]
  },
  {
   "cell_type": "code",
   "execution_count": 26,
   "metadata": {},
   "outputs": [],
   "source": [
    "import pickle\n",
    "\n",
    "# Save encoders\n",
    "with open('../models/one_hot_encoder.pkl', 'wb') as f:\n",
    "    pickle.dump(one_hot_encoder, f)\n",
    "\n",
    "with open('../models/target_encoder_location.pkl', 'wb') as f:\n",
    "    pickle.dump(target_encoder_location, f)\n",
    "\n",
    "with open('../models/target_encoder_size.pkl', 'wb') as f:\n",
    "    pickle.dump(target_encoder_size, f)"
   ]
  },
  {
   "cell_type": "code",
   "execution_count": null,
   "metadata": {},
   "outputs": [],
   "source": []
  }
 ],
 "metadata": {
  "kernelspec": {
   "display_name": "Python 3",
   "language": "python",
   "name": "python3"
  },
  "language_info": {
   "codemirror_mode": {
    "name": "ipython",
    "version": 3
   },
   "file_extension": ".py",
   "mimetype": "text/x-python",
   "name": "python",
   "nbconvert_exporter": "python",
   "pygments_lexer": "ipython3",
   "version": "3.12.0"
  }
 },
 "nbformat": 4,
 "nbformat_minor": 2
}
