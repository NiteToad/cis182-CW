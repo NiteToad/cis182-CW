{
 "cells": [
  {
   "cell_type": "code",
   "execution_count": 1,
   "metadata": {},
   "outputs": [],
   "source": [
    "import pandas as pd \n",
    "from sklearn.model_selection import train_test_split\n",
    "from sklearn.preprocessing import KBinsDiscretizer"
   ]
  },
  {
   "cell_type": "code",
   "execution_count": 2,
   "metadata": {},
   "outputs": [],
   "source": [
    "# loading dataset\n",
    "df = pd.read_csv(\"../data/unprocessed/wildfire-dataset.csv\", low_memory=False)"
   ]
  },
  {
   "cell_type": "code",
   "execution_count": 3,
   "metadata": {},
   "outputs": [],
   "source": [
    "# df.info()"
   ]
  },
  {
   "cell_type": "code",
   "execution_count": 4,
   "metadata": {},
   "outputs": [],
   "source": [
    "# df.isna().sum()"
   ]
  },
  {
   "cell_type": "code",
   "execution_count": 5,
   "metadata": {},
   "outputs": [],
   "source": [
    "df = df.drop(columns=[\"ICS_209_PLUS_INCIDENT_JOIN_ID\", \"ICS_209_PLUS_COMPLEX_JOIN_ID\", \"MTBS_ID\", \"MTBS_FIRE_NAME\", \"COMPLEX_NAME\", \"LOCAL_FIRE_REPORT_ID\",\"FIRE_CODE\", \"FIRE_NAME\", \"LOCAL_INCIDENT_ID\", \"DISCOVERY_TIME\", \"NWCG_CAUSE_AGE_CATEGORY\", \"CONT_DATE\", \"CONT_DOY\", \"CONT_TIME\", \"FIPS_CODE\", \"FIPS_NAME\"], axis=1)"
   ]
  },
  {
   "cell_type": "code",
   "execution_count": 6,
   "metadata": {},
   "outputs": [],
   "source": [
    "# df.info()"
   ]
  },
  {
   "cell_type": "code",
   "execution_count": 7,
   "metadata": {},
   "outputs": [],
   "source": [
    "# df.isna().sum()"
   ]
  },
  {
   "cell_type": "code",
   "execution_count": 8,
   "metadata": {},
   "outputs": [
    {
     "name": "stdout",
     "output_type": "stream",
     "text": [
      "Loading formatted geocoded file...\n"
     ]
    }
   ],
   "source": [
    "import reverse_geocoder as rg \n",
    "\n",
    "missing_county = df[df['COUNTY'].isna()]\n",
    "\n",
    "coordinates = list(zip(missing_county.LATITUDE, missing_county.LONGITUDE))\n",
    "results = rg.search(coordinates)\n",
    "\n",
    "df.loc[df['COUNTY'].isna(), 'COUNTY'] = [r['admin2'] for r in results]"
   ]
  },
  {
   "cell_type": "code",
   "execution_count": 9,
   "metadata": {},
   "outputs": [],
   "source": [
    "# df.isna().sum()"
   ]
  },
  {
   "cell_type": "code",
   "execution_count": 10,
   "metadata": {},
   "outputs": [],
   "source": [
    "# df.info()"
   ]
  },
  {
   "cell_type": "code",
   "execution_count": 11,
   "metadata": {},
   "outputs": [],
   "source": [
    "df.columns = df.columns.str.lower()"
   ]
  },
  {
   "cell_type": "code",
   "execution_count": 12,
   "metadata": {},
   "outputs": [],
   "source": [
    "df['county'] = df['county'].str.lower()\n",
    "df['nwcg_cause_classification'] = df['nwcg_cause_classification'].str.lower()\n",
    "df['nwcg_general_cause'] = df['nwcg_general_cause'].str.lower()\n",
    "df['fire_size_class'] = df['fire_size_class'].str.lower()\n",
    "df['state'] = df['state'].str.lower()"
   ]
  },
  {
   "cell_type": "code",
   "execution_count": 13,
   "metadata": {},
   "outputs": [],
   "source": [
    "# drop 'source_system_type', 'source_system', 'nwcg_reporting_agency', 'nwcg_reporting_unit_id', 'nwcg_reporting_unit_name', 'source_reporting_unit', 'source_reporting_unit_name', 'owner_descr',"
   ]
  },
  {
   "cell_type": "code",
   "execution_count": 14,
   "metadata": {},
   "outputs": [],
   "source": [
    "df = df.drop(columns=['source_system_type', 'source_system', 'nwcg_reporting_agency', 'nwcg_reporting_unit_id', 'nwcg_reporting_unit_name', 'source_reporting_unit', 'source_reporting_unit_name', 'owner_descr'], axis=1)"
   ]
  },
  {
   "cell_type": "code",
   "execution_count": 15,
   "metadata": {},
   "outputs": [],
   "source": [
    "# df.info()"
   ]
  },
  {
   "cell_type": "code",
   "execution_count": 16,
   "metadata": {},
   "outputs": [],
   "source": [
    "df = df.drop(columns=['fpa_id'], axis=1)"
   ]
  },
  {
   "cell_type": "code",
   "execution_count": 17,
   "metadata": {},
   "outputs": [],
   "source": [
    "df['discovery_date'] = pd.to_datetime(df['discovery_date'])\n",
    "\n",
    "# Extract year, month, day, and day of week\n",
    "df['year'] = df['discovery_date'].dt.year\n",
    "df['month'] = df['discovery_date'].dt.month\n",
    "df['day'] = df['discovery_date'].dt.day\n",
    "# df['day_of_week'] = df['discovery_date'].dt.dayofweek"
   ]
  },
  {
   "cell_type": "code",
   "execution_count": 18,
   "metadata": {},
   "outputs": [],
   "source": [
    "# df.info()"
   ]
  },
  {
   "cell_type": "code",
   "execution_count": 19,
   "metadata": {},
   "outputs": [],
   "source": [
    "df = df.drop(columns=['discovery_date'], axis=1)"
   ]
  },
  {
   "cell_type": "code",
   "execution_count": 20,
   "metadata": {},
   "outputs": [],
   "source": [
    "# !pip install category_encoders"
   ]
  },
  {
   "cell_type": "code",
   "execution_count": 21,
   "metadata": {},
   "outputs": [],
   "source": [
    "import category_encoders as ce\n",
    "\n",
    "# One-hot encoding\n",
    "one_hot_encoder = ce.OneHotEncoder(cols=['nwcg_cause_classification', 'nwcg_general_cause', 'fire_size_class'])\n",
    "df = one_hot_encoder.fit_transform(df)\n",
    "\n",
    "# Target encoding for Location Model\n",
    "target_encoder_location = ce.TargetEncoder(cols=['county', 'state'])\n",
    "df_location = target_encoder_location.fit_transform(df, df['latitude'])  \n",
    "\n",
    "# Define targets and features for Location Model\n",
    "location_target = df_location[['latitude', 'longitude']]  \n",
    "location_features = df_location.drop(['fire_size', 'latitude', 'longitude'], axis=1)  \n",
    "\n",
    "# Target encoding for Size Model\n",
    "target_encoder_size = ce.TargetEncoder(cols=['county', 'state'])\n",
    "df_size = target_encoder_size.fit_transform(df, df['fire_size'])  \n",
    "\n",
    "# Define targets and features for Size Model\n",
    "size_target = df_size['fire_size']  # or 'fire_size_class'\n",
    "size_features = df_size.drop(['fire_size'], axis=1)"
   ]
  },
  {
   "cell_type": "code",
   "execution_count": 22,
   "metadata": {},
   "outputs": [
    {
     "name": "stdout",
     "output_type": "stream",
     "text": [
      "<class 'pandas.core.frame.DataFrame'>\n",
      "RangeIndex: 2166753 entries, 0 to 2166752\n",
      "Data columns (total 35 columns):\n",
      " #   Column                       Dtype  \n",
      "---  ------                       -----  \n",
      " 0   fod_id                       int64  \n",
      " 1   fire_year                    int64  \n",
      " 2   discovery_doy                int64  \n",
      " 3   nwcg_cause_classification_1  int64  \n",
      " 4   nwcg_cause_classification_2  int64  \n",
      " 5   nwcg_cause_classification_3  int64  \n",
      " 6   nwcg_cause_classification_4  int64  \n",
      " 7   nwcg_general_cause_1         int64  \n",
      " 8   nwcg_general_cause_2         int64  \n",
      " 9   nwcg_general_cause_3         int64  \n",
      " 10  nwcg_general_cause_4         int64  \n",
      " 11  nwcg_general_cause_5         int64  \n",
      " 12  nwcg_general_cause_6         int64  \n",
      " 13  nwcg_general_cause_7         int64  \n",
      " 14  nwcg_general_cause_8         int64  \n",
      " 15  nwcg_general_cause_9         int64  \n",
      " 16  nwcg_general_cause_10        int64  \n",
      " 17  nwcg_general_cause_11        int64  \n",
      " 18  nwcg_general_cause_12        int64  \n",
      " 19  nwcg_general_cause_13        int64  \n",
      " 20  fire_size                    float64\n",
      " 21  fire_size_class_1            int64  \n",
      " 22  fire_size_class_2            int64  \n",
      " 23  fire_size_class_3            int64  \n",
      " 24  fire_size_class_4            int64  \n",
      " 25  fire_size_class_5            int64  \n",
      " 26  fire_size_class_6            int64  \n",
      " 27  fire_size_class_7            int64  \n",
      " 28  latitude                     float64\n",
      " 29  longitude                    float64\n",
      " 30  state                        object \n",
      " 31  county                       object \n",
      " 32  year                         int32  \n",
      " 33  month                        int32  \n",
      " 34  day                          int32  \n",
      "dtypes: float64(3), int32(3), int64(27), object(2)\n",
      "memory usage: 553.8+ MB\n"
     ]
    }
   ],
   "source": [
    "df.info()"
   ]
  },
  {
   "cell_type": "code",
   "execution_count": 24,
   "metadata": {},
   "outputs": [],
   "source": [
    "location_features = location_features.drop(['state', 'county'], axis=1)\n",
    "size_features = size_features.drop(['state', 'county'], axis=1)"
   ]
  },
  {
   "cell_type": "code",
   "execution_count": 25,
   "metadata": {},
   "outputs": [],
   "source": [
    "df.to_csv(\"../data/processed/cleaned-dataframe.csv\", index=False)\n",
    "location_features.to_csv('../data/processed/location_features.csv', index=False)\n",
    "location_target.to_csv('../data/processed/location_target.csv', index=False)\n",
    "size_features.to_csv('../data/processed/size_features.csv', index=False)\n",
    "size_target.to_csv('../data/processed/size_target.csv', index=False)"
   ]
  },
  {
   "cell_type": "code",
   "execution_count": 26,
   "metadata": {},
   "outputs": [],
   "source": [
    "import pickle\n",
    "\n",
    "# Save encoders\n",
    "with open('../models/one_hot_encoder.pkl', 'wb') as f:\n",
    "    pickle.dump(one_hot_encoder, f)\n",
    "\n",
    "with open('../models/target_encoder_location.pkl', 'wb') as f:\n",
    "    pickle.dump(target_encoder_location, f)\n",
    "\n",
    "with open('../models/target_encoder_size.pkl', 'wb') as f:\n",
    "    pickle.dump(target_encoder_size, f)"
   ]
  },
  {
   "cell_type": "code",
   "execution_count": null,
   "metadata": {},
   "outputs": [],
   "source": []
  }
 ],
 "metadata": {
  "kernelspec": {
   "display_name": "Python 3",
   "language": "python",
   "name": "python3"
  },
  "language_info": {
   "codemirror_mode": {
    "name": "ipython",
    "version": 3
   },
   "file_extension": ".py",
   "mimetype": "text/x-python",
   "name": "python",
   "nbconvert_exporter": "python",
   "pygments_lexer": "ipython3",
   "version": "3.11.1"
  }
 },
 "nbformat": 4,
 "nbformat_minor": 2
}
